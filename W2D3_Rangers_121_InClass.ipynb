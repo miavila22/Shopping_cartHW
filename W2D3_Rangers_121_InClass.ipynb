{
 "cells": [
  {
   "cell_type": "markdown",
   "metadata": {},
   "source": [
    "# Dictionaries & Sets"
   ]
  },
  {
   "cell_type": "markdown",
   "metadata": {},
   "source": [
    "## Tasks Today:\n",
    "\n",
    "1) Dictionary <br>\n",
    " &nbsp;&nbsp;&nbsp;&nbsp; a) Declaring (key, value) <br>\n",
    " &nbsp;&nbsp;&nbsp;&nbsp; b) Accessing Values <br>\n",
    " &nbsp;&nbsp;&nbsp;&nbsp; ------ Exercise #1 - Print the eye color of each person in a double nested dict <br>\n",
    " &nbsp;&nbsp;&nbsp;&nbsp; c) Adding New Pairs <br>\n",
    " &nbsp;&nbsp;&nbsp;&nbsp; d) Modifying Values <br>\n",
    " &nbsp;&nbsp;&nbsp;&nbsp; e) Removing Key, Value Pairs <br>\n",
    " &nbsp;&nbsp;&nbsp;&nbsp; f) Looping a Dictionary <br>\n",
    " &nbsp;&nbsp;&nbsp;&nbsp; g) Looping Only Keys <br>\n",
    " &nbsp;&nbsp;&nbsp;&nbsp; h) Looping Only Values <br>\n",
    " &nbsp;&nbsp;&nbsp;&nbsp; ------ Exercise #2 - Create a Function that Prints All Key Value Pairs within a print .format()  <br>\n",
    " &nbsp;&nbsp;&nbsp;&nbsp; i) sorted() <br>\n",
    " &nbsp;&nbsp;&nbsp;&nbsp; j) Lists with Dictionaries <br>\n",
    " &nbsp;&nbsp;&nbsp;&nbsp; k) Dictionaries with Lists <br>\n",
    " &nbsp;&nbsp;&nbsp;&nbsp; l) Dictionaries with Dictionaries <br>\n",
    " &nbsp;&nbsp;&nbsp;&nbsp; ------ Exercise #3 - Write a Function that asks someone's name and address, and then stores that into a dictionary, which prints all names and addresses after they're done putting information in...  <br>\n",
    "2) Dictionaries vs. Lists (over time)<br>\n",
    "3) Set <br>\n",
    " &nbsp;&nbsp;&nbsp;&nbsp; a) Declaring <br>\n",
    " &nbsp;&nbsp;&nbsp;&nbsp; b) .add() <br>\n",
    " &nbsp;&nbsp;&nbsp;&nbsp; c) .remove() <br>\n",
    " &nbsp;&nbsp;&nbsp;&nbsp; d) .union() <br>\n",
    " &nbsp;&nbsp;&nbsp;&nbsp; e) .intersection() <br>\n",
    " &nbsp;&nbsp;&nbsp;&nbsp; f) .difference() <br>\n",
    " &nbsp;&nbsp;&nbsp;&nbsp; g) Frozen Set <br>\n",
    "4) Modules <br>\n",
    " &nbsp;&nbsp;&nbsp;&nbsp; a) Importing Entire Modules <br>\n",
    " &nbsp;&nbsp;&nbsp;&nbsp; b) Importing Methods Only <br>\n",
    " &nbsp;&nbsp;&nbsp;&nbsp; c) Using the 'as' Keyword <br>\n",
    " &nbsp;&nbsp;&nbsp;&nbsp; d) Creating a Module <br>\n",
    "5) Exercises <br>\n",
    " &nbsp;&nbsp;&nbsp;&nbsp; a) Build a Shopping Cart <br>\n",
    " &nbsp;&nbsp;&nbsp;&nbsp; b) Create Your Own Module <br>"
   ]
  },
  {
   "cell_type": "markdown",
   "metadata": {},
   "source": [
    "## Dictionary <br>\n",
    "<p>A collection of data with 'key:value' pairs. Dictionaries are ordered as of Python 3.6</p>"
   ]
  },
  {
   "cell_type": "markdown",
   "metadata": {},
   "source": [
    "##### Declaring (key, value)"
   ]
  },
  {
   "cell_type": "code",
   "execution_count": 2,
   "metadata": {},
   "outputs": [
    {
     "name": "stdout",
     "output_type": "stream",
     "text": [
      "{}\n",
      "{}\n",
      "{'Tom': '255 Main St', 'Jerry': '256 Main St', 0: 'This is a 0'}\n"
     ]
    }
   ],
   "source": [
    "# keys should be unique\n",
    "# can use numbers or strings as keys\n",
    "d_1 = {}\n",
    "\n",
    "print(d_1)\n",
    "# or\n",
    "d_2 = dict()\n",
    "print(d_2)\n",
    "\n",
    "# d_2[\"some\"] = \"value\" declaring some value\n",
    "d_3 = {\n",
    "    \"Tom\": \"255 Main St\",\n",
    "    \"Jerry\": \"256 Main St\",\n",
    "    0: \"This is a 0\"\n",
    "}\n",
    "\n",
    "print(d_3)\n",
    "\n",
    "\n",
    "\n",
    "\n",
    "\n"
   ]
  },
  {
   "cell_type": "markdown",
   "metadata": {},
   "source": [
    "##### Accessing Values"
   ]
  },
  {
   "cell_type": "code",
   "execution_count": 3,
   "metadata": {},
   "outputs": [
    {
     "name": "stdout",
     "output_type": "stream",
     "text": [
      "Juan\n"
     ]
    }
   ],
   "source": [
    "names = [\"Juan\", \"Berik\", \"Connor\"]\n",
    "print(names[0])"
   ]
  },
  {
   "cell_type": "code",
   "execution_count": 4,
   "metadata": {},
   "outputs": [
    {
     "name": "stdout",
     "output_type": "stream",
     "text": [
      "255 Main St\n"
     ]
    }
   ],
   "source": [
    "# dict[key] pay attention to the data structures!!! It can get confusing with index. \n",
    "d_3 = {\n",
    "    \"Tom\": \"255 Main St\",\n",
    "    \"Jerry\": \"256 Main St\",\n",
    "    0: \"This is a 0\"\n",
    "}\n",
    "print(d_3[\"Tom\"])    "
   ]
  },
  {
   "cell_type": "code",
   "execution_count": 13,
   "metadata": {},
   "outputs": [
    {
     "name": "stdout",
     "output_type": "stream",
     "text": [
      "When I am super tired, I will get a 20oz americano\n",
      "12oz\n",
      "16oz\n",
      "20oz\n"
     ]
    }
   ],
   "source": [
    "drink_sizes ={\n",
    "    \"tall\" : \"12oz\",\n",
    "    \"grande\" : \"16oz\",\n",
    "    \"venti\" : \"20oz\"\n",
    "}\n",
    "\n",
    "print(f'When I am super tired, I will get a {drink_sizes[\"venti\"]} americano')\n",
    "print(drink_sizes[\"tall\"])\n",
    "print(drink_sizes[\"grande\"])\n",
    "print(drink_sizes[\"venti\"])\n",
    "\n"
   ]
  },
  {
   "cell_type": "code",
   "execution_count": 8,
   "metadata": {},
   "outputs": [
    {
     "name": "stdout",
     "output_type": "stream",
     "text": [
      "255 Main St\n",
      "None\n",
      "257 Main St\n",
      "{'Tom': '255 Main St', 'Jerry': '256 Main St', 0: 'This is a 0'}\n"
     ]
    }
   ],
   "source": [
    "#dict.get(key, value)\n",
    "address = d_3.get(\"Tom\")\n",
    "print(address)\n",
    "\n",
    "name = d_3.get(\"255 Main St\")\n",
    "print(name)\n",
    "\n",
    "name2 = d_3.get(\"Spike\", \"257 Main St\")\n",
    "print(name2)\n",
    "\n",
    "print(d_3)"
   ]
  },
  {
   "cell_type": "markdown",
   "metadata": {},
   "source": [
    "## In-Class Exercise #1 - Print a formatted statement from the dictionary below <br>\n",
    "<p>The output should be '2018 Chevrolet Silverado'</p>"
   ]
  },
  {
   "cell_type": "code",
   "execution_count": 23,
   "metadata": {},
   "outputs": [
    {
     "name": "stdout",
     "output_type": "stream",
     "text": [
      "2018 Chevrolet Silverado\n",
      "2018, Chevrolet, Silverado\n"
     ]
    }
   ],
   "source": [
    "# use the dict below\n",
    "truck = {\n",
    "    \"year\": 2018,\n",
    "    'make': 'Chevrolet',\n",
    "    'model': 'Silverado'\n",
    "}\n",
    "\n",
    "print(truck[\"year\"], truck [\"make\"], truck[\"model\"])\n",
    "print(f'{truck[\"year\"]}, {truck [\"make\"]}, {truck[\"model\"]}')  \n",
    "\n"
   ]
  },
  {
   "cell_type": "markdown",
   "metadata": {},
   "source": [
    "##### Adding New Pairs"
   ]
  },
  {
   "cell_type": "code",
   "execution_count": 22,
   "metadata": {},
   "outputs": [
    {
     "name": "stdout",
     "output_type": "stream",
     "text": [
      "{'Tom': '255 Main St', 'Jerry': '256 Main St', 0: 'This is a 0'}\n",
      "{'Tom': '255 Main St', 'Jerry': '256 Main St', 0: 'This is a 0', 'Spike': '257 Main St'}\n",
      "{'Tom': '255 Main St', 'Jerry': '256 Main St', 0: 'This is a 0', 'Spike': '257 Main St', 'Tike': '257 Main St'}\n",
      "{'Tom': '255 Main St', 'Jerry': '256 Main St', 0: 'This is a 0', 'Spike': '257 Main St', 'Tike': '257 Main St', 1: 'This is a 1'}\n"
     ]
    }
   ],
   "source": [
    "# dict[key] = value\n",
    "d_3 = {\n",
    "    \"Tom\": \"255 Main St\",\n",
    "    \"Jerry\": \"256 Main St\",\n",
    "    0: \"This is a 0\"\n",
    "}\n",
    "\n",
    "print(d_3)\n",
    "\n",
    "d_3[\"Spike\"] = \"257 Main St\" #adding a value to a dictionary. \n",
    "print(d_3)\n",
    "d_3[\"Tike\"] = \"257 Main St\"\n",
    "print(d_3)\n",
    "\n",
    "d_3[1] = \"This is a 1\"\n",
    "print(d_3)"
   ]
  },
  {
   "cell_type": "markdown",
   "metadata": {},
   "source": [
    "##### Modifying Values"
   ]
  },
  {
   "cell_type": "code",
   "execution_count": 38,
   "metadata": {},
   "outputs": [
    {
     "name": "stdout",
     "output_type": "stream",
     "text": [
      "257 Main St\n",
      "{'Tom': '254 Main St', 'Jerry': '254 Main St', 0: 'This is a 0', 'Spike': '257 Main St', 'Tike': '258 Main St', 1: 'This is a 1', 'Rooster': '259 Main St'}\n",
      "{'Tom': '254 Main St', 'Jerry': '254 Main St', 0: 'This is a 0', 'Spike': '257 Main St', 'Tike': '258 Main St', 1: 'This is a 1', 'Rooster': '259 Main St'}\n",
      "{'Tom': '254 Main St', 'Jerry': '254 Main St', 0: 'This is a 0', 'Spike': '257 Main St', 'Tike': '258 Main St', 1: 'This is a 1', 'Rooster': '259 Main St'}\n",
      "This address already exists, please do not overwrite.\n",
      "{'Tom': '254 Main St', 'Jerry': '254 Main St', 0: 'This is a 0', 'Spike': '257 Main St', 'Tike': '258 Main St', 1: 'This is a 1', 'Rooster': '259 Main St'}\n",
      "True\n",
      "<class 'str'>\n",
      "{'Tom': '254 Main St', 'Jerry': '254 Main St', 0: 'This is a 0', 'Spike': '257 Main St', 'Tike': '258 Main St 60618', 1: 'This is a 1', 'Rooster': '259 Main St'}\n"
     ]
    }
   ],
   "source": [
    "# dict[key] = value\n",
    "#looks exactly the same as adding values but the difference is the key already exist in the dictionary. \n",
    "#dict[key] gives us the value in the dictionary.\n",
    "\n",
    "#setting a variable to a a value in a dictionary. \n",
    "dog_address = d_3[\"Spike\"]\n",
    "print(dog_address)\n",
    "\n",
    "#Tike is moving to another place.\n",
    "d_3[\"Tike\"] = \"258 Main St\"\n",
    "print(d_3)\n",
    "d_3[\"Tom\"] = \"254 Main St\"\n",
    "d_3[\"Jerry\"] = \"254 Main St\"\n",
    "\n",
    "print(d_3)\n",
    "\n",
    "if \"259 Main St\" not in d_3:\n",
    "    d_3[\"Rooster\"] = \"259 Main St\"\n",
    "    \n",
    "else:\n",
    "    print(\"This already exist\")\n",
    "\n",
    "print(d_3)\n",
    "\n",
    "if \"Tom\" not in d_3: #this is looking for the key. \n",
    "    d_3[\"Tom\"] = \"254 Main St\"\n",
    "else:\n",
    "    print(\"This address already exists, please do not overwrite.\")\n",
    "print(d_3)\n",
    "\n",
    "if d_3[\"Tom\"]:\n",
    "    print(True)\n",
    "\n",
    "d_3[\"Tike\"] = d_3[\"Tike\"] + \" 60618\"\n",
    "print(type(d_3[\"Tike\"]))\n",
    "\n",
    "address = \"258 Main St\"\n",
    "\n",
    "print(d_3)\n"
   ]
  },
  {
   "cell_type": "code",
   "execution_count": 42,
   "metadata": {},
   "outputs": [
    {
     "name": "stdout",
     "output_type": "stream",
     "text": [
      "300 blossom rd\n",
      "257 Main St\n",
      "300 blossom rd\n",
      "300 blossom rd\n"
     ]
    }
   ],
   "source": [
    "print(d_3[\"Spike\"])\n",
    "address = \"257 Main St\"\n",
    "\n",
    "print(address)\n",
    "\n",
    "d_3[\"Spike\"] = \"300 blossom rd\"\n",
    "print(d_3[\"Spike\"])\n",
    "\n",
    "address = \"300 blossom rd\"\n",
    "print(address)"
   ]
  },
  {
   "cell_type": "markdown",
   "metadata": {},
   "source": [
    "##### Removing Key, Value Pairs"
   ]
  },
  {
   "cell_type": "code",
   "execution_count": 43,
   "metadata": {},
   "outputs": [
    {
     "name": "stdout",
     "output_type": "stream",
     "text": [
      "{'Tom': '254 Main St', 'Jerry': '254 Main St', 0: 'This is a 0', 'Spike': '300 blossom rd', 'Tike': '258 Main St 60618', 1: 'This is a 1', 'Rooster': '259 Main St'}\n",
      "{'Tom': '254 Main St', 'Jerry': '254 Main St', 'Spike': '300 blossom rd', 'Tike': '258 Main St 60618', 1: 'This is a 1', 'Rooster': '259 Main St'}\n",
      "{'Tom': '254 Main St', 'Jerry': '254 Main St', 'Spike': '300 blossom rd', 'Tike': '258 Main St 60618', 'Rooster': '259 Main St'}\n"
     ]
    }
   ],
   "source": [
    "# del dict[key]\n",
    "print(d_3)\n",
    "\n",
    "del d_3[0]\n",
    "print(d_3)\n",
    "\n",
    "del d_3[1]\n",
    "print(d_3)\n",
    "\n",
    "\n",
    "\n"
   ]
  },
  {
   "cell_type": "code",
   "execution_count": 44,
   "metadata": {},
   "outputs": [
    {
     "name": "stdout",
     "output_type": "stream",
     "text": [
      "That key doesn't exist. Please try again.\n"
     ]
    }
   ],
   "source": [
    "#del d_3[\"Bugs Bunny\"] error because that key doesn't exist inside of the dictionary.\n",
    "if \"Bugs Bunny\" in d_3:\n",
    "    del d_3[\"Bugs Bunny\"]\n",
    "else:\n",
    "    print(\"That key doesn't exist. Please try again.\")\n"
   ]
  },
  {
   "cell_type": "markdown",
   "metadata": {},
   "source": [
    "##### Looping a Dictionary"
   ]
  },
  {
   "cell_type": "code",
   "execution_count": 50,
   "metadata": {},
   "outputs": [
    {
     "name": "stdout",
     "output_type": "stream",
     "text": [
      "{'Tom': '254 Main St', 'Jerry': '254 Main St', 'Spike': '300 blossom rd', 'Tike': '258 Main St 60618', 'Rooster': '259 Main St'}\n",
      "dict_items([('Tom', '254 Main St'), ('Jerry', '254 Main St'), ('Spike', '300 blossom rd'), ('Tike', '258 Main St 60618'), ('Rooster', '259 Main St')])\n",
      "\n",
      "\n",
      "Tom 254 Main St\n",
      "Jerry 254 Main St\n",
      "Spike 300 blossom rd\n",
      "Tike 258 Main St 60618\n",
      "Rooster 259 Main St\n",
      "Tom\n",
      "Jerry\n"
     ]
    }
   ],
   "source": [
    "# .items()\n",
    "# a, b, c = 1, 2, 3\n",
    "print(d_3)\n",
    "d_3_items = d_3.items()\n",
    "print(d_3_items)\n",
    "print(\"\\n\")\n",
    "\n",
    "#key, value\n",
    "\n",
    "for k, v in d_3.items():\n",
    "    print(k, v)\n",
    "\n",
    "#referencing a key from value. \n",
    "    \n",
    "for k, v in d_3.items():\n",
    "    if v == \"254 Main St\":\n",
    "        print(k)"
   ]
  },
  {
   "cell_type": "code",
   "execution_count": 52,
   "metadata": {},
   "outputs": [
    {
     "name": "stdout",
     "output_type": "stream",
     "text": [
      "Tom lives at 254 Main St\n",
      "Jerry lives at 254 Main St\n",
      "Spike lives at 300 blossom rd\n",
      "Tike lives at 258 Main St 60618\n",
      "Rooster lives at 259 Main St\n"
     ]
    }
   ],
   "source": [
    "for name, address in d_3.items():\n",
    "    print(f\"{name} lives at {address}\")"
   ]
  },
  {
   "cell_type": "markdown",
   "metadata": {},
   "source": [
    "##### Looping Only Keys"
   ]
  },
  {
   "cell_type": "code",
   "execution_count": 78,
   "metadata": {},
   "outputs": [
    {
     "name": "stdout",
     "output_type": "stream",
     "text": [
      "dict_keys(['Tom', 'Jerry', 'Spike', 'Tike', 'Rooster'])\n",
      "Tom\n",
      "Jerry\n",
      "Spike\n",
      "Tike\n",
      "Rooster\n",
      "\n",
      "\n",
      "Tom\n",
      "Jerry\n",
      "Spike\n",
      "Tike\n",
      "Rooster\n"
     ]
    }
   ],
   "source": [
    "# .keys()\n",
    "d_3_keys = d_3.keys()\n",
    "print(d_3_keys)\n",
    "\n",
    "for k in d_3_keys:\n",
    "    print(k)\n",
    "\n",
    "print(\"\\n\")\n",
    "# by default you will loop through a dictionary's keys\n",
    "for k in d_3:\n",
    "    print(k)"
   ]
  },
  {
   "cell_type": "markdown",
   "metadata": {},
   "source": [
    "##### Looping Only Values"
   ]
  },
  {
   "cell_type": "code",
   "execution_count": 56,
   "metadata": {
    "scrolled": true
   },
   "outputs": [
    {
     "name": "stdout",
     "output_type": "stream",
     "text": [
      "dict_values(['254 Main St', '254 Main St', '300 blossom rd', '258 Main St 60618', '259 Main St'])\n",
      "254 Main St\n",
      "254 Main St\n",
      "300 blossom rd\n",
      "258 Main St 60618\n",
      "259 Main St\n"
     ]
    }
   ],
   "source": [
    "# .values()\n",
    "d_3_values = d_3.values()\n",
    "print(d_3_values)\n",
    "\n",
    "for v in d_3.values():\n",
    "    print(v)\n"
   ]
  },
  {
   "cell_type": "markdown",
   "metadata": {},
   "source": [
    "## In-Class Exercise #2 - Create a Function that Prints All Key Value Pairs within a formatted string  <br>\n",
    "<p><b>Output should be:</b><br>\n",
    "Max has blue eyes<br>\n",
    "Lilly has brown eyes<br>\n",
    "Barney has blue eyes<br>\n",
    "etc.\n",
    "</p>"
   ]
  },
  {
   "cell_type": "code",
   "execution_count": 70,
   "metadata": {},
   "outputs": [
    {
     "name": "stdout",
     "output_type": "stream",
     "text": [
      "dict_items([('Max', 'blue'), ('Lilly', 'brown'), ('Barney', 'green'), ('Ted', 'purple'), ('Sasuke', 'sharingan')])\n",
      "Max blue\n",
      "Lilly brown\n",
      "Barney green\n",
      "Ted purple\n",
      "Sasuke sharingan\n",
      "Max has blue eyes\n",
      "Lilly has brown eyes\n",
      "Barney has green eyes\n",
      "Ted has purple eyes\n",
      "Sasuke has sharingan eyes\n",
      "\n",
      "\n",
      "Max blue\n",
      "Lilly brown\n",
      "Barney green\n",
      "Ted purple\n",
      "Sasuke sharingan\n"
     ]
    }
   ],
   "source": [
    "# use the dict below K\n",
    "#Key, Value\n",
    "#k, v\n",
    "people = {\n",
    "    'Max' : 'blue',\n",
    "    'Lilly' : 'brown',\n",
    "    'Barney' : 'green',\n",
    "    'Ted' : 'purple',\n",
    "    'Sasuke' : 'sharingan'    \n",
    "} \n",
    "\n",
    "print(people.items())\n",
    "\n",
    "for k, v in people.items():\n",
    "    print(k, v)\n",
    "\n",
    "for k, v in people.items():\n",
    "    print(f\"{k} has {v} eyes\")\n",
    "\n",
    "print(\"\\n\")\n",
    "\n",
    "for name, color in people.items():\n",
    "    print(name, color)\n"
   ]
  },
  {
   "cell_type": "code",
   "execution_count": 73,
   "metadata": {},
   "outputs": [
    {
     "name": "stdout",
     "output_type": "stream",
     "text": [
      "('Max', 'Blue')\n",
      "('Lily', 'Brown')\n",
      "('Barney', 'Green')\n",
      "\n",
      "\n",
      "Max Blue\n",
      "Lily Brown\n",
      "Barney Green\n",
      "\n",
      "\n",
      "Max has Blue eyes\n",
      "Lily has Brown eyes\n",
      "Barney has Green eyes\n",
      "\n",
      "\n",
      "Max has blue eyes\n",
      "Lilly has brown eyes\n",
      "Barney has green eyes\n",
      "Ted has purple eyes\n",
      "Sasuke has sharingan eyes\n"
     ]
    }
   ],
   "source": [
    "#how to replicate previous cell. \n",
    "name_eyes = [(\"Max\", \"Blue\"), (\"Lily\", \"Brown\"), (\"Barney\", \"Green\")]\n",
    "for group in name_eyes:\n",
    "    print(group)\n",
    "print(\"\\n\")\n",
    "\n",
    "for name, color in name_eyes:\n",
    "    print(name, color)\n",
    "\n",
    "print(\"\\n\")\n",
    "\n",
    "for name, color in name_eyes:\n",
    "    print(f\"{name} has {color} eyes\")\n",
    "\n",
    "print(\"\\n\")\n",
    "\n",
    "for name, color in people.items():\n",
    "    print(f\"{name} has {color} eyes\")"
   ]
  },
  {
   "cell_type": "markdown",
   "metadata": {},
   "source": [
    "##### sorted()"
   ]
  },
  {
   "cell_type": "code",
   "execution_count": 77,
   "metadata": {},
   "outputs": [
    {
     "name": "stdout",
     "output_type": "stream",
     "text": [
      "Values ['blue', 'brown', 'green', 'purple', 'sharingan']\n",
      "Keys ['Barney', 'Lilly', 'Max', 'Sasuke', 'Ted']\n",
      "Items [('Barney', 'green'), ('Lilly', 'brown'), ('Max', 'blue'), ('Sasuke', 'sharingan'), ('Ted', 'purple')]\n",
      "['Barney', 'Lilly', 'Max', 'Sasuke', 'Ted']\n"
     ]
    }
   ],
   "source": [
    "# sorts variables in order\n",
    "# sorted(dict.values()) or dict.keys() or dict.items()\n",
    "people = {\n",
    "    'Max' : 'blue',\n",
    "    'Lilly' : 'brown',\n",
    "    'Barney' : 'green',\n",
    "    'Ted' : 'purple',\n",
    "    'Sasuke' : 'sharingan'    \n",
    "} \n",
    "\n",
    "print(\"Values\", sorted(people.values()))\n",
    "print(\"Keys\", sorted(people.keys()))\n",
    "print(\"Items\", sorted(people.items()))\n",
    "print(sorted(people))\n"
   ]
  },
  {
   "cell_type": "markdown",
   "metadata": {},
   "source": [
    "##### List with Dictionaries"
   ]
  },
  {
   "cell_type": "code",
   "execution_count": 81,
   "metadata": {},
   "outputs": [
    {
     "name": "stdout",
     "output_type": "stream",
     "text": [
      "Shikamaru\n",
      "Gaara\n",
      "OctoPops\n",
      "\n",
      "\n",
      "Shikamaru\n",
      "Gaara\n"
     ]
    }
   ],
   "source": [
    "#\n",
    "shinobi = [\"Shikamaru\", \"Gaara\", \"OctoPops\"]\n",
    "for name in shinobi:\n",
    "    print(name)\n",
    "print(\"\\n\")\n",
    "print(shinobi[0])\n",
    "print(shinobi[1])\n",
    "\n"
   ]
  },
  {
   "cell_type": "code",
   "execution_count": 85,
   "metadata": {},
   "outputs": [
    {
     "name": "stdout",
     "output_type": "stream",
     "text": [
      "Shikamaru\n",
      "Gaara\n",
      "OctoPops\n",
      "{'leaf_village': 'Naruto', 'leaf_village2': 'Kakashi'}\n",
      "\n",
      "\n",
      "{'leaf_village': 'Naruto', 'leaf_village2': 'Kakashi'}\n",
      "{'leaf_village': 'Naruto', 'leaf_village2': 'Kakashi'}\n",
      "Kakashi\n",
      "Kakashi\n",
      "Kakashi\n",
      "Naruto\n"
     ]
    }
   ],
   "source": [
    "shinobi = [\"Shikamaru\", \"Gaara\", \"OctoPops\", {\"leaf_village\": \"Naruto\", \"leaf-village2\": \"Kakashi\"}]\n",
    "\n",
    "shinobi = [\"Shikamaru\", \"Gaara\", \"OctoPops\", {\"leaf_village\": \"Naruto\", \"leaf_village2\": \"Kakashi\"}]\n",
    "\n",
    "for name in shinobi:\n",
    "    print(name)\n",
    "    \n",
    "print(\"\\n\")\n",
    "\n",
    "print(shinobi[3])\n",
    "\n",
    "print(shinobi[3])\n",
    "\n",
    "my_shinobi = shinobi[3]\n",
    "\n",
    "print(my_shinobi[\"leaf_village2\"])\n",
    "\n",
    "print(shinobi[3]['leaf_village2'])\n",
    "print(shinobi[-1]['leaf_village2'])\n",
    "\n",
    "shinobi_dict = {\"leaf_village\": \"Naruto\", \"leaf_village2\": \"Kakashi\"}\n",
    "\n",
    "print(shinobi_dict[\"leaf_village\"])        "
   ]
  },
  {
   "cell_type": "markdown",
   "metadata": {},
   "source": [
    "##### Dictionaries with Lists"
   ]
  },
  {
   "cell_type": "code",
   "execution_count": 89,
   "metadata": {},
   "outputs": [
    {
     "name": "stdout",
     "output_type": "stream",
     "text": [
      "Bulbasaur\n",
      "65\n",
      "John\n",
      "Laura\n",
      "Bulbasaur\n"
     ]
    }
   ],
   "source": [
    "# be careful when using numbers as keys in dictionaries, don't confuse them with indexes\n",
    "some_data = {\n",
    "    \"list_1\": [54, 65, 98],\n",
    "    \"names\": [\"John\", \"Laura\", \"Bulbasaur\"]\n",
    "}\n",
    "#How do I recall bulbasaur\n",
    "print(some_data[\"names\"][-1])\n",
    "\n",
    "print(some_data[\"list_1\"][1])\n",
    "\n",
    "#how do I loop through names?\n",
    "for name in some_data[\"names\"]:\n",
    "    print(name)"
   ]
  },
  {
   "cell_type": "markdown",
   "metadata": {},
   "source": [
    "##### Dictionaries with Dictionaries"
   ]
  },
  {
   "cell_type": "code",
   "execution_count": 93,
   "metadata": {
    "scrolled": true
   },
   "outputs": [],
   "source": [
    "# to get values, must traverse through keys\n",
    "\n",
    "food_dict = {\n",
    "    \"Ryan\": {\n",
    "        \"Mexican\": [\"Tacos\", \"Tortas\", \"Conchas\"],\n",
    "        \"Desserts\": [\"Cheesecake\", \"Pie\", \"Chocolate Chip Cookies\", \"Cupcakes\"]\n",
    "    },\n",
    "    \"Javier\": {\n",
    "        \"Dominican\": [\"Mango\", \"PassionFruit\", \"Flan\"],\n",
    "        \"American\": [\"Chicken\", \"Gravy\", \"Mashed Potatos\"]\n",
    "    },\n",
    "    \"Miguel\": {\n",
    "        \"Vegan\": [\"Beans\", \"Fruits\", \"Vegetables\"],\n",
    "        \"Desserts\": [\"peanuts\", \"cookies\", \"popcorn\", \"soda\"]\n",
    "    },\n",
    "    \"Grace\": {\n",
    "        \"Indian Food\" : [\"Palak Paneer\", \"Naan\", \"Chana Masala\"],\n",
    "        \"Desserts\" : [\"Lemon Bars\", \"Cheesecake\", \"Pies\"]\n",
    "    },\n",
    "    \"Anthony\":{\n",
    "        \"Spanish\":[\"Tacos\",\"Mofongo\", \"Papusas\"],\n",
    "        \"Desserts\":[\"Cheescake\", \"Flan\", \"Oreos\", \"M&Ms\"]\n",
    "    },\n",
    "    \"Bikram\" :  {\n",
    "        \"Food\":[\"Pasta\", \"Fried Chicken\" , \"Rice\"],\n",
    "        \"Desserts\":[\"Chocolate Cake\" ,\"Ice Cream\" \"Dunots\"]  \n",
    "},\n",
    "    \"Juan\": {\n",
    "        \"Mexican Seafood\": [\"Langostinos\", \"Ceviche\", \"Chapuzon\"],\n",
    "        \"Desserts\": [\"Cheesecake\", \"Flan\", \"Brownies\"]\n",
    "},\n",
    "    \"Connor\":{\n",
    "        \"Pasta\": [\"penne\", \"spagetti\",\"farfelle\"],\n",
    "        \"Pizza\" : [\"Chicago Style pizza\", \"Detroit Style Pizza (best pizza)\", \"New York Pizza\"],\n",
    "        \"Cake\": [\"Cheesecake (best)\", \"Carrot Cake\", \"Chocholate Pican Cake\"]\n",
    "},\n",
    "    \"Justin\": {\n",
    "        \"Vietnamese\" : [\"Pho\", \"Banh Mi\", \"Bun Bo Hue\"],\n",
    "        \"Fruits\" : [\"Apple\", \"Pear\", \"Grapes\", \"Jackfruit\"]\n",
    "},\n",
    "    \"Claudel\": {\"Haitian\": [\"kalalou\", \"tchaka\", \"bouton\"],\n",
    "                  \"desert\": [\"kremas\", \"bonbonsiwo\", \"dousmakos\"]\n",
    "               },\n",
    "    \"Andres\": {\n",
    "        \"Italian\": [\"Pasta\", \"Raviolis\", \"Pizza\"],\n",
    "        \"Desserts\": [\"Ice cream\", \"Cookies\", \"Brownies\", \"Waffle\"]\n",
    "},\n",
    "    \"Berik\": {\n",
    "        \"Kazakh\": [\"Beshbarmak\", \"Kuyrdak\", \"Kebab\"],\n",
    "        \"Deserts\" : [\"Kaymak\", \"Medovik\", \"Tort\"]},\n",
    "    \n",
    "    \"Wil\" : {\n",
    "        \"beef\": [\"tacos\",\"torta\",\"queso\"],\n",
    "        \"eggs\": [\"over_easy\",\"over_less_easy\",\"with_queso\"]},\n",
    "    \n",
    "    \"Dez\": {\n",
    "        \"Korean\" : ['Bibimbop', 'Kimchi', 'Samgyeopsa', 'Tteokbokki', 'Bulgogi']\n",
    "    },\n",
    "    \"Kym\": {\n",
    "        \"Asian\": [\"Ramen\", \"Sushi\", \"Fried Noodles\"],\n",
    "        \"Desserts\": [\"Dark_chocalate\", \"Ice cream\",\"honeycake\"]}, \n",
    "    \n",
    "    \n",
    "}\n",
    "\n"
   ]
  },
  {
   "cell_type": "code",
   "execution_count": 94,
   "metadata": {},
   "outputs": [
    {
     "name": "stdout",
     "output_type": "stream",
     "text": [
      "Ryan\n",
      "Javier\n",
      "Miguel\n",
      "Grace\n",
      "Anthony\n",
      "Bikram\n",
      "Juan\n",
      "Connor\n",
      "Justin\n",
      "Claudel\n",
      "Andres\n",
      "Berik\n",
      "Wil\n",
      "Dez\n",
      "Kym\n"
     ]
    }
   ],
   "source": [
    "#looping though the keys in dictionary. (food_dict)\n",
    "for person in food_dict: #food_dict.keys() is the same thing as running through food_dict\n",
    "    print(person)"
   ]
  },
  {
   "cell_type": "code",
   "execution_count": 92,
   "metadata": {},
   "outputs": [
    {
     "name": "stdout",
     "output_type": "stream",
     "text": [
      "{'Mexican': ['Tacos', 'Tortas', 'Conchas'], 'Desserts': ['Cheesecake', 'Pie', 'Chocolate Chip Cookies', 'Cupcakes']}\n",
      "{'Dominican': ['Mango', 'PassionFruit', 'Flan'], 'American': ['Chicken', 'Gravy', 'Mashed Potatos']}\n",
      "{'Vegan': ['Beans', 'Fruits', 'Vegetables'], 'Desserts': ['peanuts', 'cookies', 'popcorn', 'soda']}\n",
      "{'Indian Food': ['Palak Paneer', 'Naan', 'Chana Masala'], 'Desserts': ['Lemon Bars', 'Cheesecake', 'Pies']}\n",
      "{'Spanish': ['Tacos', 'Mofongo', 'Papusas'], 'Desserts': ['Cheescake', 'Flan', 'Oreos', 'M&Ms']}\n",
      "{'Food': ['Pasta', 'Fried Chicken', 'Rice'], 'Desserts': ['Chocolate Cake', 'Ice CreamDunots']}\n",
      "{'Mexican Seafood': ['Langostinos', 'Ceviche', 'Chapuzon'], 'Desserts': ['Cheesecake', 'Flan', 'Brownies']}\n",
      "{'Pasta': ['penne', 'spagetti', 'farfelle'], 'Pizza': ['Chicago Style pizza', 'Detroit Style Pizza (best pizza)', 'New York Pizza'], 'Cake': ['Cheesecake (best)', 'Carrot Cake', 'Chocholate Pican Cake']}\n",
      "{'Vietnamese': ['Pho', 'Banh Mi', 'Bun Bo Hue'], 'Fruits': ['Apple', 'Pear', 'Grapes', 'Jackfruit']}\n",
      "{'Haitian': ['kalalou', 'tchaka', 'bouton'], 'desert': ['kremas', 'bonbonsiwo', 'dousmakos']}\n",
      "{'Italian': ['Pasta', 'Raviolis', 'Pizza'], 'Desserts': ['Ice cream', 'Cookies', 'Brownies', 'Waffle']}\n",
      "{'Kazakh': ['Beshbarmak', 'Kuyrdak', 'Kebab'], 'Deserts': ['Kaymak', 'Medovik', 'Tort']}\n",
      "{'beef': ['tacos', 'torta', 'queso'], 'eggs': ['over_easy', 'over_less_easy', 'with_queso']}\n",
      "{'Korean': ['Bibimbop', 'Kimchi', 'Samgyeopsa', 'Tteokbokki', 'Bulgogi']}\n",
      "{'Asian': ['Ramen', 'Sushi', 'Fried Noodles'], 'Desserts': ['Dark_chocalate', 'Ice cream', 'honeycake']}\n"
     ]
    }
   ],
   "source": [
    "for foods in food_dict.values(): #looping thrugh the values in dictionary. (food_dict)\n",
    "    print(foods)"
   ]
  },
  {
   "cell_type": "code",
   "execution_count": 98,
   "metadata": {},
   "outputs": [
    {
     "name": "stdout",
     "output_type": "stream",
     "text": [
      "{'Mexican': ['Tacos', 'Tortas', 'Conchas'], 'Desserts': ['Cheesecake', 'Pie', 'Chocolate Chip Cookies', 'Cupcakes']}\n",
      "Tacos\n",
      "Tortas\n",
      "Conchas\n",
      "Cheesecake\n",
      "Pie\n",
      "Chocolate Chip Cookies\n",
      "Cupcakes\n"
     ]
    }
   ],
   "source": [
    "# accessing a specific person's favorite food types\n",
    "print(food_dict[\"Ryan\"])\n",
    "\n",
    "for food in food_dict[\"Ryan\"][\"Mexican\"]:\n",
    "    print(food)\n",
    "\n",
    "for dessert in food_dict[\"Ryan\"][\"Desserts\"]:\n",
    "    print(dessert)"
   ]
  },
  {
   "cell_type": "code",
   "execution_count": 101,
   "metadata": {},
   "outputs": [
    {
     "name": "stdout",
     "output_type": "stream",
     "text": [
      "Here are all of our favorite foods!\n",
      "\n",
      "Ryan's favorite foods are:  \n",
      "Tacos\n",
      "Tortas\n",
      "Conchas\n",
      "Cheesecake\n",
      "Pie\n",
      "Chocolate Chip Cookies\n",
      "Cupcakes\n",
      "\n",
      "Javier's favorite foods are:  \n",
      "Mango\n",
      "PassionFruit\n",
      "Flan\n",
      "Chicken\n",
      "Gravy\n",
      "Mashed Potatos\n",
      "\n",
      "Miguel's favorite foods are:  \n",
      "Beans\n",
      "Fruits\n",
      "Vegetables\n",
      "peanuts\n",
      "cookies\n",
      "popcorn\n",
      "soda\n",
      "\n",
      "Grace's favorite foods are:  \n",
      "Palak Paneer\n",
      "Naan\n",
      "Chana Masala\n",
      "Lemon Bars\n",
      "Cheesecake\n",
      "Pies\n",
      "\n",
      "Anthony's favorite foods are:  \n",
      "Tacos\n",
      "Mofongo\n",
      "Papusas\n",
      "Cheescake\n",
      "Flan\n",
      "Oreos\n",
      "M&Ms\n",
      "\n",
      "Bikram's favorite foods are:  \n",
      "Pasta\n",
      "Fried Chicken\n",
      "Rice\n",
      "Chocolate Cake\n",
      "Ice CreamDunots\n",
      "\n",
      "Juan's favorite foods are:  \n",
      "Langostinos\n",
      "Ceviche\n",
      "Chapuzon\n",
      "Cheesecake\n",
      "Flan\n",
      "Brownies\n",
      "\n",
      "Connor's favorite foods are:  \n",
      "penne\n",
      "spagetti\n",
      "farfelle\n",
      "Chicago Style pizza\n",
      "Detroit Style Pizza (best pizza)\n",
      "New York Pizza\n",
      "Cheesecake (best)\n",
      "Carrot Cake\n",
      "Chocholate Pican Cake\n",
      "\n",
      "Justin's favorite foods are:  \n",
      "Pho\n",
      "Banh Mi\n",
      "Bun Bo Hue\n",
      "Apple\n",
      "Pear\n",
      "Grapes\n",
      "Jackfruit\n",
      "\n",
      "Claudel's favorite foods are:  \n",
      "kalalou\n",
      "tchaka\n",
      "bouton\n",
      "kremas\n",
      "bonbonsiwo\n",
      "dousmakos\n",
      "\n",
      "Andres's favorite foods are:  \n",
      "Pasta\n",
      "Raviolis\n",
      "Pizza\n",
      "Ice cream\n",
      "Cookies\n",
      "Brownies\n",
      "Waffle\n",
      "\n",
      "Berik's favorite foods are:  \n",
      "Beshbarmak\n",
      "Kuyrdak\n",
      "Kebab\n",
      "Kaymak\n",
      "Medovik\n",
      "Tort\n",
      "\n",
      "Wil's favorite foods are:  \n",
      "tacos\n",
      "torta\n",
      "queso\n",
      "over_easy\n",
      "over_less_easy\n",
      "with_queso\n",
      "\n",
      "Dez's favorite foods are:  \n",
      "Bibimbop\n",
      "Kimchi\n",
      "Samgyeopsa\n",
      "Tteokbokki\n",
      "Bulgogi\n",
      "\n",
      "Kym's favorite foods are:  \n",
      "Ramen\n",
      "Sushi\n",
      "Fried Noodles\n",
      "Dark_chocalate\n",
      "Ice cream\n",
      "honeycake\n"
     ]
    }
   ],
   "source": [
    "#Printing everyone's fav foods.\n",
    "\n",
    "print(\"Here are all of our favorite foods!\")\n",
    "for name in food_dict.keys():\n",
    "    print(f\"\\n{name}'s favorite foods are:  \")\n",
    "    for food_type in food_dict[name].keys(): #food_dict[\"Ryan\"]\n",
    "        for food in food_dict[name][food_type]: #food_dict[\"Ryan\"][\"Mexican\"]/food_dict[\"Ryan\"][\"Desserts\"]\n",
    "            print(food)# [Tacos\", \"Tortas\", \"Conchas\"]\n",
    "            "
   ]
  },
  {
   "cell_type": "markdown",
   "metadata": {},
   "source": [
    "## Dictionaries vs. Lists (over time) Example of RUNTIME\n",
    "### When inputting values in a Dictionary vs List"
   ]
  },
  {
   "cell_type": "code",
   "execution_count": null,
   "metadata": {},
   "outputs": [],
   "source": [
    "import time\n",
    "\n",
    "#generate dictionary\n",
    "\n",
    "    \n",
    "\n",
    "    \n",
    "\n"
   ]
  },
  {
   "cell_type": "code",
   "execution_count": null,
   "metadata": {},
   "outputs": [],
   "source": [
    "#track the time for the dictionary\n",
    "\n",
    "\n",
    "\n",
    "        "
   ]
  },
  {
   "cell_type": "markdown",
   "metadata": {},
   "source": [
    "## Exercise #3 - Write a Function that asks someone's name and address, and then stores that into a dictionary, and continues to do so until they choose to 'quit'. Once they quit, the program should print all names and addresses. <br>\n",
    "<p>\n",
    "<b>Proper steps:</b><br>\n",
    "step 1: write a function that takes in information and stores it in a dictionary<br>\n",
    "step 2: define an empty dictionary to work with<br>\n",
    "step 3: create our loop, which asks the user for information until they quit<br>\n",
    "step 4: ask for the information, and store it into variables<br>\n",
    "step 5: check if the user types quit<br>\n",
    "step 5a: print out all information<br>\n",
    "step 5b: break out of the loop<br>\n",
    "step 6: if they didn't quit, add the information to the dictionary<br>\n",
    "step 7: invoke the function by calling it\n",
    "</p>"
   ]
  },
  {
   "cell_type": "code",
   "execution_count": 7,
   "metadata": {},
   "outputs": [
    {
     "name": "stdin",
     "output_type": "stream",
     "text": [
      "Enter a name or say 'quit' to quit:  Miguel\n",
      "Enter an address or say 'quit' to quit. 5412 2\n",
      "Enter a name or say 'quit' to quit:  quit\n"
     ]
    },
    {
     "name": "stdout",
     "output_type": "stream",
     "text": [
      "The address for Miguel is 5412 2\n"
     ]
    }
   ],
   "source": [
    "from IPython.display import clear_output\n",
    "#step 1: work on functions tomorrow\n",
    "\n",
    "#step2: create a dictionary\n",
    "d = {}\n",
    "\n",
    "# step3: Create a loop. While True will conitnue to run until we hit a break condition (Quit)\n",
    "while True:\n",
    "    #Step4\n",
    "    name = input(\"Enter a name or say 'quit' to quit: \")\n",
    "    if name.strip().lower() != 'quit': \n",
    "        address = input(\"Enter an address or say 'quit' to quit.\")\n",
    "\n",
    "#step5 check user inputs\n",
    "    if name.lower() == \"quit\" or address.lower() == \"quit\":\n",
    "#step5a check user types quit\n",
    "        for name, address in d.items():\n",
    "            print(f\"The address for {name} is {address}\")\n",
    "        break\n",
    "    \n",
    "#step6\n",
    "    d[name] = address\n",
    "            \n",
    "        \n",
    "        "
   ]
  },
  {
   "cell_type": "markdown",
   "metadata": {},
   "source": [
    "## Set <br>\n",
    "<p>A Set is an unordered collection data type that is iterable (loop), mutable, and has no duplicate elements.<br>Major advantage is that it is highly optimized in checking if something is in the set, as opposed to checking if something is in a list.</p>"
   ]
  },
  {
   "cell_type": "markdown",
   "metadata": {},
   "source": [
    "##### Declaring"
   ]
  },
  {
   "cell_type": "code",
   "execution_count": 5,
   "metadata": {},
   "outputs": [
    {
     "name": "stdout",
     "output_type": "stream",
     "text": [
      "{8, 1, 4}\n"
     ]
    }
   ],
   "source": [
    "# set() or {}\n",
    "# no order {3, 2, 1} outputs as {1, 2, 3}\n",
    "my_set = set()\n",
    "\n",
    "nums= {4,1,8,4}\n",
    "#removes duplicates\n",
    "print(nums)\n",
    "\n",
    "# print(nums[0]) #gives error because you can't index into an unordered collections"
   ]
  },
  {
   "cell_type": "code",
   "execution_count": 8,
   "metadata": {
    "scrolled": true
   },
   "outputs": [
    {
     "name": "stdout",
     "output_type": "stream",
     "text": [
      "{1, 2, 3, 4, 5}\n",
      "[1, 2, 3, 4, 5]\n"
     ]
    }
   ],
   "source": [
    "#remove all duplicates from the list\n",
    "my_list = [1,1,1,1,1,1,2,2,2,2,2,2,2,2,3,3,3,3,3,3,4,4,4,4,4,4,4,5,5,5,5,]\n",
    "remove_dups = set(my_list)\n",
    "print(remove_dups)\n",
    "\n",
    "my_list = list(remove_dups)\n",
    "\n",
    "print(my_list)\n",
    "#remove_dups = list(set(my_list))"
   ]
  },
  {
   "cell_type": "markdown",
   "metadata": {},
   "source": [
    "##### .add()"
   ]
  },
  {
   "cell_type": "code",
   "execution_count": 12,
   "metadata": {},
   "outputs": [
    {
     "name": "stdout",
     "output_type": "stream",
     "text": [
      "{1, 2, 3, 4}\n",
      "{1, 2, 3, 4, 8}\n",
      "{1, 2, 3, 4, 8, 'Hello'}\n",
      "{1, 2, 3, 4, 8}\n"
     ]
    }
   ],
   "source": [
    "# set.add()\n",
    "my_set = {1, 2, 3, 4}\n",
    "print(my_set)\n",
    "my_set.add(8)\n",
    "print(my_set)\n",
    "my_set.add(\"Hello\")\n",
    "print(my_set)\n",
    "my_set.remove(\"Hello\")\n",
    "print(my_set)\n",
    "\n",
    "\n"
   ]
  },
  {
   "cell_type": "markdown",
   "metadata": {},
   "source": [
    "##### .remove()"
   ]
  },
  {
   "cell_type": "code",
   "execution_count": null,
   "metadata": {},
   "outputs": [],
   "source": [
    "# removes by value\n",
    "# set.remove()\n",
    "#LOOK AT THE EXAMPLE ABOVE!!\n"
   ]
  },
  {
   "cell_type": "markdown",
   "metadata": {},
   "source": [
    "##### .union() "
   ]
  },
  {
   "cell_type": "code",
   "execution_count": 14,
   "metadata": {},
   "outputs": [
    {
     "name": "stdout",
     "output_type": "stream",
     "text": [
      "{1, 2, 3, 4, 5, 6, 7, 8, 9, 10}\n",
      "{1, 2, 3, 4, 5, 6, 7, 8, 9, 10}\n"
     ]
    }
   ],
   "source": [
    "# Returns a union of two sets, can also use '|' or set.union(set)\n",
    "# joins all numbers, gets rid of duplicates\n",
    "s1 = {1,2,3,4,5,6}\n",
    "s2 = {7,8,9,10}\n",
    "\n",
    "s3 = s1.union(s2) #order does not matter. Just combining 2 sets. \n",
    "\n",
    "print(s3)\n",
    "\n",
    "s4 = s1 | s2\n",
    "\n",
    "print(s4)\n",
    "\n"
   ]
  },
  {
   "cell_type": "markdown",
   "metadata": {},
   "source": [
    "##### .intersection()"
   ]
  },
  {
   "cell_type": "code",
   "execution_count": 17,
   "metadata": {},
   "outputs": [
    {
     "name": "stdout",
     "output_type": "stream",
     "text": [
      "{3, 4}\n",
      "{3, 4}\n"
     ]
    }
   ],
   "source": [
    "# Returns an intersection of two sets, can also use '&'\n",
    "# only takes similar elements from both sets\n",
    "#what numbers they have in common\n",
    "\n",
    "s1 = {1,2,3,4,4}\n",
    "s2 = {3,4,5,6}\n",
    "\n",
    "s3 = s1.intersection(s2)\n",
    "print(s3)\n",
    "\n",
    "s4 = s1 & s2\n",
    "print(s4)"
   ]
  },
  {
   "cell_type": "markdown",
   "metadata": {},
   "source": [
    "##### .difference()"
   ]
  },
  {
   "cell_type": "code",
   "execution_count": 20,
   "metadata": {},
   "outputs": [
    {
     "name": "stdout",
     "output_type": "stream",
     "text": [
      "{1, 2}\n",
      "{5, 6}\n"
     ]
    }
   ],
   "source": [
    "# Returns a set containing all the elements of the invoking set that are not in the second set, can also use '-'\n",
    "# only takes values from the first set that are not in the second set\n",
    "# order matters!!!!!\n",
    "\n",
    "s1 = {1,2,3,4}\n",
    "s2 = {3,4,5,6}\n",
    "s3 = s1.difference(s2)\n",
    "\n",
    "print(s3)\n",
    "\n",
    "s4 = s2 - s1\n",
    "\n",
    "print(s4)"
   ]
  },
  {
   "cell_type": "markdown",
   "metadata": {},
   "source": [
    "##### .clear()"
   ]
  },
  {
   "cell_type": "code",
   "execution_count": 22,
   "metadata": {},
   "outputs": [
    {
     "name": "stdout",
     "output_type": "stream",
     "text": [
      "{1, 2, 3, 4, 5, 6}\n",
      "set()\n"
     ]
    }
   ],
   "source": [
    "# Empties the whole set\n",
    "# set.clear()\n",
    "s1 = {1,2,3,4,5,6}\n",
    "print(s1)\n",
    "\n",
    "s1.clear()\n",
    "print(s1)"
   ]
  },
  {
   "cell_type": "markdown",
   "metadata": {},
   "source": [
    "##### Frozenset <br>\n",
    "<p>Frozen sets are immutable objects that only support methods and operators that produce a result without affecting the frozen set or sets to which they are applied.</p><br><b>Unique & Immutable</b>"
   ]
  },
  {
   "cell_type": "code",
   "execution_count": 26,
   "metadata": {},
   "outputs": [
    {
     "name": "stdout",
     "output_type": "stream",
     "text": [
      "{1, 2, 3, 4, 'my dog is cool', 'Hello'}\n",
      "frozenset({1, 2, 3, 4, 'my dog is cool', 'Hello'})\n",
      "{1, 2, 3, 4, 'my dog is cool', 'Hello'}\n",
      "{1, 2, 3, 4, 'my dog is cool', 'Hello', 'get out'}\n"
     ]
    }
   ],
   "source": [
    "# frozenset([]) immutable. Cant alter in anyway\n",
    "my_set = {1,2,3,4, \"Hello\", \"my dog is cool\"}\n",
    "print(my_set)\n",
    "\n",
    "frozen_set = frozenset(my_set)\n",
    "print(frozen_set)\n",
    "\n",
    "my_new_set = set(frozen_set)\n",
    "print(my_new_set)\n",
    "my_new_set.add(\"get out\")\n",
    "print(my_new_set)"
   ]
  },
  {
   "cell_type": "markdown",
   "metadata": {},
   "source": [
    "# Exercises"
   ]
  },
  {
   "cell_type": "markdown",
   "metadata": {},
   "source": [
    "### 1) Build a Shopping Cart <br>\n",
    "<p><b>You can use either lists or dictionaries. The program should have the following capabilities:</b><br><br>\n",
    "1) Takes in input <br>\n",
    "2) Stores user input into a dictionary or list <br>\n",
    "3) The User can add or delete items <br>\n",
    "4) The User can see current shopping list <br>\n",
    "5) The program Loops until user 'quits' <br>\n",
    "6) Upon quiting the program, print out all items in the user's list <br>\n",
    "</p>"
   ]
  },
  {
   "cell_type": "code",
   "execution_count": 17,
   "metadata": {},
   "outputs": [
    {
     "name": "stdin",
     "output_type": "stream",
     "text": [
      "Enter an item or say 'quit' to quit:  app\n",
      "Would you like to add or remove groceries? If not, say 'quit' to quit. banana\n"
     ]
    }
   ],
   "source": [
    "from IPython.display import clear_output\n",
    "\n",
    "#step2: create a dictionary\n",
    "shopping_cart = {}\n",
    "\n",
    "while True:\n",
    "    #Step4\n",
    "    items = input(\"Enter an item or say 'quit' to quit: \")\n",
    "    if items == \"quit\":\n",
    "        break\n",
    "    items = input(\"Would you like to add or remove groceries? If not, say 'quit' to quit.\")\n",
    "    if items == \"quit\":\n",
    "        break\n",
    "\n",
    "\n",
    "    if items == \"quit\":\n",
    "        for items in shopping_cart:\n",
    "            print(f\"Your shopping cart contains: \")\n",
    "            \n",
    "#Ask for help...\n",
    "        \n",
    "\n",
    "\n",
    "\n"
   ]
  },
  {
   "cell_type": "markdown",
   "metadata": {},
   "source": [
    "### 2) Set Practice"
   ]
  },
  {
   "cell_type": "markdown",
   "metadata": {},
   "source": []
  },
  {
   "cell_type": "markdown",
   "metadata": {},
   "source": [
    "<p><b>Remove all duplicates from the following list</b></p>"
   ]
  },
  {
   "cell_type": "code",
   "execution_count": 27,
   "metadata": {},
   "outputs": [
    {
     "name": "stdout",
     "output_type": "stream",
     "text": [
      "{1, 2, 3, 4, 5, 6, 11, 12, 14, 16}\n"
     ]
    }
   ],
   "source": [
    "nums_list = [1, 1, 1, 2, 2, 3, 5, 6, 4, 12, 11, 12, 12, 14, 16, 16, 16, 1, 1, 1, 2, 2]\n",
    "remove_dups = set(nums_list)\n",
    "print(remove_dups)\n",
    "\n"
   ]
  },
  {
   "cell_type": "markdown",
   "metadata": {},
   "source": [
    "<p><b>Out put the intersection of the following the following sets.</b></p>"
   ]
  },
  {
   "cell_type": "code",
   "execution_count": 29,
   "metadata": {},
   "outputs": [
    {
     "name": "stdout",
     "output_type": "stream",
     "text": [
      "{26, 27}\n"
     ]
    }
   ],
   "source": [
    "set1 = {20, 24, 26, 27}\n",
    "set2 = {26, 35, 63, 27}\n",
    "\n",
    "set3 = set1.intersection(set2)\n",
    "print(set3)"
   ]
  },
  {
   "cell_type": "markdown",
   "metadata": {},
   "source": [
    "<p><b>Output the difference between the following sets</b></p>"
   ]
  },
  {
   "cell_type": "code",
   "execution_count": 32,
   "metadata": {},
   "outputs": [
    {
     "name": "stdout",
     "output_type": "stream",
     "text": [
      "{89, 100}\n",
      "{89, 100}\n"
     ]
    }
   ],
   "source": [
    "set3 = {100, 65, 89, 200}\n",
    "set4 = {65, 103, 54, 200}\n",
    "\n",
    "set5 = set3.difference(set4)\n",
    "print(set5)\n",
    "\n",
    "#or \n",
    "\n",
    "set6 = set3 - set4 \n",
    "print(set6)"
   ]
  },
  {
   "cell_type": "code",
   "execution_count": null,
   "metadata": {},
   "outputs": [],
   "source": []
  }
 ],
 "metadata": {
  "kernelspec": {
   "display_name": "Python 3 (ipykernel)",
   "language": "python",
   "name": "python3"
  },
  "language_info": {
   "codemirror_mode": {
    "name": "ipython",
    "version": 3
   },
   "file_extension": ".py",
   "mimetype": "text/x-python",
   "name": "python",
   "nbconvert_exporter": "python",
   "pygments_lexer": "ipython3",
   "version": "3.11.5"
  }
 },
 "nbformat": 4,
 "nbformat_minor": 4
}
